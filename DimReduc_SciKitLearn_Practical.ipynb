{
 "cells": [
  {
   "cell_type": "markdown",
   "metadata": {
    "id": "typg0XwAW6tV"
   },
   "source": [
    "# First contact with GitHub Practical\n",
    "\n",
    "thanks to Alison Horst for the data-set\n",
    "https://allisonhorst.github.io/palmerpenguins/\n",
    "\n",
    "*This Practical: version 18 Oct 2023*"
   ]
  },
  {
   "cell_type": "markdown",
   "metadata": {
    "id": "-685clAUW6tg"
   },
   "source": [
    "## First set-up\n",
    "As a general ML tool we are going to use `scikit-learn`  available https://scikit-learn.org/stable/index.html\n",
    "\n",
    "For this, the following tools should be present\n",
    "\n",
    "- python\n",
    "- jupyter-notebook\n",
    "- numpy\n",
    "- scipy\n",
    "- matplotlib\n",
    "\n",
    "    these are  fundations for data-science in python\n",
    "\n",
    "- scikit-learn  the ML tool in use today\n",
    "\n",
    "Here we are going to use the collaborative [ML tool by Google](https://colab.research.google.com) where everything is already installed. In this case, simply copy this notebook to the colab space, or into your google drive."
   ]
  },
  {
   "cell_type": "markdown",
   "metadata": {
    "id": "jTK6XxhxW6th"
   },
   "source": [
    "*Alternatively, you may want to have it on your own computer.\n",
    "Then the best way to get them is to install the Anaconda python distribution, available [here](https://www.anaconda.com/products/individual)*\n",
    "\n",
    "    scikit-learn one might not be installed - The best is to install it from within the jupyter notebook itself.\n",
    "\n",
    "    to do so, remove the initial `#` sign in the cell below and execute it (don't put a blank - the line should start with the `!` sign.\n",
    "\n",
    "    It should do it (it might take some time though).\n",
    "    You may have to restart the knotebook kernel after that (in the menu Kernel, select  **\"Restart and clear Output\"** )\n",
    "\n",
    "*Then you will have to start the notebook itself, either by using the Ananconda launcher (choose notebook) or with the command `jupyter notebook` or `jupyter-notebook` depending on your set-up.*"
   ]
  },
  {
   "cell_type": "code",
   "execution_count": null,
   "metadata": {
    "ExecuteTime": {
     "end_time": "2023-11-07T14:14:37.014233Z",
     "start_time": "2023-11-07T14:14:35.850554Z"
    },
    "id": "KduHN4AhW6ti"
   },
   "outputs": [],
   "source": [
    "!pip install scikit-learn\n",
    "# this will install scikit-learn into your local system\n",
    "# It is only needed if you run the notebook on your computer and not over internet"
   ]
  },
  {
   "cell_type": "markdown",
   "metadata": {
    "id": "7kU6Kw0WW6tj"
   },
   "source": [
    "# Remarks\n",
    "What do you think\n",
    "\n",
    "- A/ COLAB is cool\n",
    "    - you can run big computation from your smartphone\n",
    "    - everything is already installed - no pain\n",
    "    - you can share stuff with others\n",
    "- B/ Anaconda is cool\n",
    "    - you can run very long computation without worrying\n",
    "    - you control exactly what you installed / what you use\n",
    "    - nobody can interfere with your stuff\n",
    "- C/ BUT\n",
    "    - motivations ?\n",
    "    - financing ?\n",
    "    - little story about github ..."
   ]
  },
  {
   "cell_type": "markdown",
   "metadata": {
    "id": "l4WyciP_W6tk"
   },
   "source": [
    "Once the Notebook is running, the user interface is slightly different whether you are on COLAB or running locally.\n",
    "\n",
    "Execute each cell using the button **\"Run\"**.\n",
    "\n",
    "For text, select **\"Markdown\"** in the menu below the Help menu (and discover *Markdown* notation !)\n",
    "\n",
    "Use the **Help** menu a lot and the scikit-learn documentation !!!\n",
    "\n",
    "---"
   ]
  },
  {
   "cell_type": "markdown",
   "metadata": {},
   "source": [
    "The questions are marked like this:\n",
    "\n",
    "# Qn\n",
    "\n",
    "You will probably to enter some text or some code, do this by clicking on the **\"+\"** button above.\n",
    "\n",
    "For text, select **\"Markdown\"** in the menu below the Help menu (and discover *Markdown* notation !)\n",
    "\n",
    "Use the **Help** menu a lot !!!"
   ]
  },
  {
   "cell_type": "markdown",
   "metadata": {},
   "source": [
    "# Q0\n",
    "\n",
    "We are going to use `scikit-learn`  - This is a huge program.\n",
    "\n",
    "We can start here: https://scikit-learn.org/stable/tutorial/machine_learning_map/index.html"
   ]
  },
  {
   "cell_type": "markdown",
   "metadata": {
    "id": "p_-rmcs0W6tl"
   },
   "source": [
    "## Then start the Practical\n",
    "\n",
    "first load all the libraries we are going to use"
   ]
  },
  {
   "cell_type": "code",
   "execution_count": null,
   "metadata": {
    "ExecuteTime": {
     "end_time": "2023-11-07T14:25:38.984408Z",
     "start_time": "2023-11-07T14:25:38.384065Z"
    },
    "colab": {
     "base_uri": "https://localhost:8080/"
    },
    "executionInfo": {
     "elapsed": 851,
     "status": "ok",
     "timestamp": 1697640075393,
     "user": {
      "displayName": "Marc-André Delsuc",
      "userId": "14691951181681591806"
     },
     "user_tz": -120
    },
    "id": "pmiKXY29W6tl",
    "outputId": "9c5ded46-79ee-490b-c694-e00b4c44c6e6"
   },
   "outputs": [],
   "source": [
    "# import tools\n",
    "import numpy as np\n",
    "import pandas as pd\n",
    "import matplotlib.pyplot as plt\n",
    "import sklearn\n",
    "\n",
    "# select a simple display mode\n",
    "%matplotlib inline\n",
    "\n",
    "# select simple error messages\n",
    "%xmode Plain"
   ]
  },
  {
   "cell_type": "markdown",
   "metadata": {
    "id": "gTxZdkHaW6to"
   },
   "source": [
    "## with python\n",
    "- check `Presentation.ipynb`"
   ]
  },
  {
   "cell_type": "markdown",
   "metadata": {
    "id": "Q8L6q5RVW6tp"
   },
   "source": [
    "## then the data\n",
    "\n",
    "![penguins](https://allisonhorst.github.io/palmerpenguins/reference/figures/lter_penguins.png)\n",
    "\n",
    "The story is [HERE](https://allisonhorst.github.io/palmerpenguins/)\n",
    "\n",
    "And the data there:\n",
    "\n",
    "- https://portal.edirepository.org/nis/mapbrowse?packageid=knb-lter-pal.219.3\n",
    "- https://portal.edirepository.org/nis/mapbrowse?packageid=knb-lter-pal.220.3\n",
    "- https://portal.edirepository.org/nis/mapbrowse?packageid=knb-lter-pal.221.3\n",
    "\n",
    "notice the doi in the code below"
   ]
  },
  {
   "cell_type": "code",
   "execution_count": null,
   "metadata": {
    "ExecuteTime": {
     "end_time": "2023-11-07T14:25:40.470911Z",
     "start_time": "2023-11-07T14:25:40.468019Z"
    },
    "executionInfo": {
     "elapsed": 476,
     "status": "ok",
     "timestamp": 1697640048624,
     "user": {
      "displayName": "Marc-André Delsuc",
      "userId": "14691951181681591806"
     },
     "user_tz": -120
    },
    "id": "YdZrSRePW6tp"
   },
   "outputs": [],
   "source": [
    "# Adelie penguin data from: https://doi.org/10.6073/pasta/abc50eed9138b75f54eaada0841b9b86\n",
    "uri_adelie = \"https://portal.edirepository.org/nis/dataviewer?packageid=knb-lter-pal.219.3&entityid=002f3893385f710df69eeebe893144ff\"\n",
    "\n",
    "# Gentoo penguin data from: https://doi.org/10.6073/pasta/2b1cff60f81640f182433d23e68541ce\n",
    "uri_gentoo = \"https://portal.edirepository.org/nis/dataviewer?packageid=knb-lter-pal.220.3&entityid=e03b43c924f226486f2f0ab6709d2381\"\n",
    "\n",
    "# Chinstrap penguin data from: https://doi.org/10.6073/pasta/409c808f8fc9899d02401bdb04580af7\n",
    "uri_chinstrap = \"https://portal.edirepository.org/nis/dataviewer?packageid=knb-lter-pal.221.2&entityid=fe853aa8f7a59aa84cdd3197619ef462\"\n"
   ]
  },
  {
   "cell_type": "markdown",
   "metadata": {},
   "source": [
    "# Q1\n",
    "Check to be sure what [Digital_object_identifier](https://en.wikipedia.org/wiki/Digital_object_identifier) means and what is [www.doi.org](http://www.doi.org)"
   ]
  },
  {
   "cell_type": "markdown",
   "metadata": {},
   "source": [
    "# Q2\n",
    "Download on the data table by either\n",
    "\n",
    "- using the URI in your browser\n",
    "- or (easier) by using the doi link\n",
    "\n",
    "and look at it - *(`.csv` are text files)*\n",
    "\n",
    "CSV means *(comma separated values)* - it is a VERY GENERAL exchange format for tabulated data\n",
    "\n",
    "On the other hand, structured data are usually exchange in JSON format ...\n"
   ]
  },
  {
   "cell_type": "markdown",
   "metadata": {
    "id": "EA741P41W6ts"
   },
   "source": [
    "### loading into pandas\n",
    "we can load directly from the uri using pandas - just load a few columns though"
   ]
  },
  {
   "cell_type": "code",
   "execution_count": null,
   "metadata": {
    "ExecuteTime": {
     "end_time": "2023-11-07T14:27:59.540861Z",
     "start_time": "2023-11-07T14:27:54.293893Z"
    },
    "executionInfo": {
     "elapsed": 4226,
     "status": "ok",
     "timestamp": 1697640105513,
     "user": {
      "displayName": "Marc-André Delsuc",
      "userId": "14691951181681591806"
     },
     "user_tz": -120
    },
    "id": "2gcQxW_wW6ts"
   },
   "outputs": [],
   "source": [
    "cols =[\"Culmen Length (mm)\",\"Culmen Depth (mm)\",\"Flipper Length (mm)\",\"Body Mass (g)\",\"Sex\"]\n",
    "adelie = pd.read_csv(uri_adelie, usecols=cols)\n",
    "gentoo  = pd.read_csv(uri_gentoo, usecols=cols)\n",
    "chinstrap  = pd.read_csv(uri_chinstrap, usecols=cols)"
   ]
  },
  {
   "cell_type": "markdown",
   "metadata": {
    "id": "VJIlS9psW6tt"
   },
   "source": [
    "Rapid check of the content"
   ]
  },
  {
   "cell_type": "code",
   "execution_count": null,
   "metadata": {
    "ExecuteTime": {
     "end_time": "2023-11-07T14:28:00.761489Z",
     "start_time": "2023-11-07T14:28:00.757013Z"
    },
    "colab": {
     "base_uri": "https://localhost:8080/"
    },
    "executionInfo": {
     "elapsed": 8,
     "status": "ok",
     "timestamp": 1697640169695,
     "user": {
      "displayName": "Marc-André Delsuc",
      "userId": "14691951181681591806"
     },
     "user_tz": -120
    },
    "id": "Yk9B2gBvW6tt",
    "outputId": "bdcfee5b-74d4-42bb-8921-4b826f5b763e"
   },
   "outputs": [],
   "source": [
    "print(len(chinstrap),\" entries\")\n"
   ]
  },
  {
   "cell_type": "markdown",
   "metadata": {},
   "source": [
    "# Doc of read_csv() \n",
    "you should know and **use** jupyter automatic doc !!!"
   ]
  },
  {
   "cell_type": "code",
   "execution_count": null,
   "metadata": {
    "ExecuteTime": {
     "end_time": "2023-11-07T14:28:04.154629Z",
     "start_time": "2023-11-07T14:28:04.118667Z"
    },
    "executionInfo": {
     "elapsed": 501,
     "status": "ok",
     "timestamp": 1697645311445,
     "user": {
      "displayName": "Marc-André Delsuc",
      "userId": "14691951181681591806"
     },
     "user_tz": -120
    },
    "id": "ltrOBR6BPtTr"
   },
   "outputs": [],
   "source": [
    "pd.read_csv?"
   ]
  },
  {
   "cell_type": "code",
   "execution_count": null,
   "metadata": {
    "ExecuteTime": {
     "end_time": "2023-11-07T14:29:04.036470Z",
     "start_time": "2023-11-07T14:29:04.023173Z"
    },
    "colab": {
     "base_uri": "https://localhost:8080/",
     "height": 441
    },
    "executionInfo": {
     "elapsed": 15,
     "status": "ok",
     "timestamp": 1697640493021,
     "user": {
      "displayName": "Marc-André Delsuc",
      "userId": "14691951181681591806"
     },
     "user_tz": -120
    },
    "id": "0mz77UbDxkrM",
    "outputId": "7b0ae216-9a6f-4c4e-ca9d-7f49a547db8d"
   },
   "outputs": [],
   "source": [
    "adelie"
   ]
  },
  {
   "cell_type": "code",
   "execution_count": null,
   "metadata": {
    "ExecuteTime": {
     "end_time": "2023-11-07T14:29:12.033432Z",
     "start_time": "2023-11-07T14:29:12.019903Z"
    },
    "colab": {
     "base_uri": "https://localhost:8080/",
     "height": 300
    },
    "executionInfo": {
     "elapsed": 24,
     "status": "ok",
     "timestamp": 1697618405337,
     "user": {
      "displayName": "Marc-André Delsuc",
      "userId": "14691951181681591806"
     },
     "user_tz": -120
    },
    "id": "KTa9spGvW6tt",
    "outputId": "86942ffb-bb93-4899-bf41-6d71525e4a79"
   },
   "outputs": [],
   "source": [
    "# describe is a pandas fucntion which shows simply statistics\n",
    "adelie.describe()"
   ]
  },
  {
   "cell_type": "markdown",
   "metadata": {
    "id": "n1uiPfZtW6tu"
   },
   "source": [
    "Culmen (the bill) parameters :\n",
    "\n",
    "\n",
    "![Culmen](https://allisonhorst.github.io/palmerpenguins/reference/figures/culmen_depth.png)"
   ]
  },
  {
   "cell_type": "markdown",
   "metadata": {
    "id": "qBXch_ruW6tu"
   },
   "source": [
    "rename columns for easier handling"
   ]
  },
  {
   "cell_type": "code",
   "execution_count": null,
   "metadata": {
    "ExecuteTime": {
     "end_time": "2023-11-07T14:34:04.457705Z",
     "start_time": "2023-11-07T14:34:04.452707Z"
    },
    "executionInfo": {
     "elapsed": 431,
     "status": "ok",
     "timestamp": 1697641442532,
     "user": {
      "displayName": "Marc-André Delsuc",
      "userId": "14691951181681591806"
     },
     "user_tz": -120
    },
    "id": "7Fw-vxMUW6tv"
   },
   "outputs": [],
   "source": [
    "newnames = {\"Culmen Length (mm)\": \"bill_length\",\n",
    "            \"Culmen Depth (mm)\": \"bill_depth\",\n",
    "            \"Flipper Length (mm)\":\"flipper_length\",\n",
    "            \"Body Mass (g)\":\"mass\"}\n",
    "for df in [adelie, gentoo, chinstrap]:\n",
    "    df.rename(columns=newnames, inplace=True)"
   ]
  },
  {
   "cell_type": "markdown",
   "metadata": {
    "id": "Up4aFg2hW6tv"
   },
   "source": [
    "## display\n",
    "\n",
    "This is a 4 dimensionnal dataset ! (not counting Sex which is not continuous)\n",
    "\n",
    "The problem is that we do not know how to display a 4-dimensional plot - only 2 !"
   ]
  },
  {
   "cell_type": "code",
   "execution_count": null,
   "metadata": {
    "ExecuteTime": {
     "end_time": "2023-11-07T14:34:05.529406Z",
     "start_time": "2023-11-07T14:34:05.399992Z"
    },
    "colab": {
     "base_uri": "https://localhost:8080/",
     "height": 467
    },
    "executionInfo": {
     "elapsed": 832,
     "status": "ok",
     "timestamp": 1697641445471,
     "user": {
      "displayName": "Marc-André Delsuc",
      "userId": "14691951181681591806"
     },
     "user_tz": -120
    },
    "id": "Veau9XVYW6tw",
    "outputId": "d6bdca7a-1b9e-4036-c600-9414631686dc"
   },
   "outputs": [],
   "source": [
    "adelie.plot.scatter(x=\"bill_length\", y=\"bill_depth\")\n",
    "#plt.show()"
   ]
  },
  {
   "cell_type": "markdown",
   "metadata": {
    "id": "b6lrlF_qW6tx"
   },
   "source": [
    "With all species put together"
   ]
  },
  {
   "cell_type": "code",
   "execution_count": null,
   "metadata": {
    "ExecuteTime": {
     "end_time": "2023-11-07T14:34:06.592376Z",
     "start_time": "2023-11-07T14:34:06.475210Z"
    },
    "colab": {
     "base_uri": "https://localhost:8080/",
     "height": 450
    },
    "executionInfo": {
     "elapsed": 21,
     "status": "ok",
     "timestamp": 1697641449281,
     "user": {
      "displayName": "Marc-André Delsuc",
      "userId": "14691951181681591806"
     },
     "user_tz": -120
    },
    "id": "9MVDARWiW6tx",
    "outputId": "1a21c287-5124-48ae-bc20-58c8282abf74"
   },
   "outputs": [],
   "source": [
    "# bill length/depth\n",
    "fig,ax = plt.subplots()\n",
    "for df in [adelie, gentoo, chinstrap]:\n",
    "  df.plot.scatter(x=\"bill_length\", y=\"bill_depth\", color='b', ax=ax)\n",
    "\n",
    "# adelie.plot.scatter(x=\"bill_length\", y=\"bill_depth\", color='b', ax=ax)\n",
    "# gentoo.plot.scatter(x=\"bill_length\", y=\"bill_depth\", color='b', ax=ax)\n",
    "# chinstrap.plot.scatter(x=\"bill_length\", y=\"bill_depth\", color='b', ax=ax)\n"
   ]
  },
  {
   "cell_type": "markdown",
   "metadata": {
    "id": "TucyxbhoW6tx"
   },
   "source": [
    "Of course it is easier if you know who is who"
   ]
  },
  {
   "cell_type": "code",
   "execution_count": null,
   "metadata": {
    "ExecuteTime": {
     "end_time": "2023-11-07T14:34:07.758750Z",
     "start_time": "2023-11-07T14:34:07.581920Z"
    },
    "colab": {
     "base_uri": "https://localhost:8080/",
     "height": 467
    },
    "executionInfo": {
     "elapsed": 540,
     "status": "ok",
     "timestamp": 1697641453371,
     "user": {
      "displayName": "Marc-André Delsuc",
      "userId": "14691951181681591806"
     },
     "user_tz": -120
    },
    "id": "6wGb_SxyW6ty",
    "outputId": "e557dd86-ef06-44cf-d093-df9693dec9d9"
   },
   "outputs": [],
   "source": [
    "# bill length/depth\n",
    "fig,ax = plt.subplots()\n",
    "adelie.plot.scatter(x=\"bill_length\", y=\"bill_depth\", color='b', ax=ax, label='adelie')\n",
    "gentoo.plot.scatter(x=\"bill_length\", y=\"bill_depth\", color='y', ax=ax, label='gentoo')\n",
    "chinstrap.plot.scatter(x=\"bill_length\", y=\"bill_depth\", color='g', ax=ax, label='chinstrap')\n",
    "plt.legend()"
   ]
  },
  {
   "cell_type": "code",
   "execution_count": null,
   "metadata": {
    "ExecuteTime": {
     "end_time": "2023-11-07T14:34:08.273009Z",
     "start_time": "2023-11-07T14:34:08.269402Z"
    },
    "id": "xmjhBpuAH3gP"
   },
   "outputs": [],
   "source": [
    "adelie.plot.scatter?"
   ]
  },
  {
   "cell_type": "markdown",
   "metadata": {
    "id": "M1k1n0QhW6ty"
   },
   "source": [
    "but other pairs of variables are not as good"
   ]
  },
  {
   "cell_type": "code",
   "execution_count": null,
   "metadata": {
    "ExecuteTime": {
     "end_time": "2023-11-07T14:34:14.938116Z",
     "start_time": "2023-11-07T14:34:14.746272Z"
    },
    "colab": {
     "base_uri": "https://localhost:8080/",
     "height": 467
    },
    "executionInfo": {
     "elapsed": 1290,
     "status": "ok",
     "timestamp": 1697641458224,
     "user": {
      "displayName": "Marc-André Delsuc",
      "userId": "14691951181681591806"
     },
     "user_tz": -120
    },
    "id": "Sx7TssNhW6tz",
    "outputId": "26c48a46-f200-4626-cd67-d2949cddae00"
   },
   "outputs": [],
   "source": [
    "# bill flipper/mass\n",
    "fig,ax = plt.subplots()\n",
    "adelie.plot.scatter(x=\"flipper_length\", y=\"mass\", color='b', ax=ax, label='adelie')\n",
    "gentoo.plot.scatter(x=\"flipper_length\", y=\"mass\", color='y', ax=ax, label='gentoo')\n",
    "chinstrap.plot.scatter(x=\"flipper_length\", y=\"mass\", color='g', ax=ax, label='chinstrap')\n",
    "plt.legend()"
   ]
  },
  {
   "cell_type": "markdown",
   "metadata": {
    "id": "4kaJpotGW6tz"
   },
   "source": [
    "4 Dimension is actually not that many, we can draw a projection matrix"
   ]
  },
  {
   "cell_type": "code",
   "execution_count": null,
   "metadata": {
    "ExecuteTime": {
     "end_time": "2023-11-07T14:34:19.120456Z",
     "start_time": "2023-11-07T14:34:17.766397Z"
    },
    "colab": {
     "base_uri": "https://localhost:8080/",
     "height": 751
    },
    "executionInfo": {
     "elapsed": 4129,
     "status": "ok",
     "timestamp": 1697641465053,
     "user": {
      "displayName": "Marc-André Delsuc",
      "userId": "14691951181681591806"
     },
     "user_tz": -120
    },
    "id": "okFOpO0-W6tz",
    "outputId": "2e90209c-86e9-4e5a-85ab-1a695affe921"
   },
   "outputs": [],
   "source": [
    "feature_list = (\"bill_length\", \"bill_depth\", \"flipper_length\", \"mass\")\n",
    "nfeatures = len(feature_list)\n",
    "fig, ax = plt.subplots(ncols=nfeatures, nrows=nfeatures, figsize=(12,10))\n",
    "for ifeat in range(nfeatures):\n",
    "    for data in (adelie, gentoo, chinstrap):\n",
    "        y = data[feature_list[ifeat]]\n",
    "        for jfeat in range(nfeatures):\n",
    "            x = data[feature_list[jfeat]]\n",
    "            ax[nfeatures-ifeat-1, jfeat].scatter(x,y)\n",
    "            if jfeat == 0:\n",
    "                ax[nfeatures-ifeat-1, 0].set_ylabel(feature_list[ifeat])\n",
    "            if ifeat == 0:\n",
    "                ax[nfeatures-1, jfeat].set_xlabel(feature_list[jfeat])\n"
   ]
  },
  {
   "cell_type": "markdown",
   "metadata": {
    "id": "yXF27YrZW6tz"
   },
   "source": [
    "we see that the 3 populations are nearly separated, but not quite.\n"
   ]
  },
  {
   "cell_type": "markdown",
   "metadata": {},
   "source": [
    "# Classification\n",
    "\n",
    "Let's imagine we have measured the penguins characteristics in a blind manner, without knowing their species. Would we be able to tell which is which ?\n",
    "\n",
    "This is the role of a classifier - which will create rules from examples, in order to separate the classes.\n",
    "The rules are *learned* from a *training set* and can then be applied on any new data.\n"
   ]
  },
  {
   "cell_type": "markdown",
   "metadata": {},
   "source": [
    "# Q3 \n",
    "would you be able, by hand, to tell a penguin species only from those parameters ?\n",
    "\n",
    "even for the ambiguous regions ?"
   ]
  },
  {
   "cell_type": "markdown",
   "metadata": {
    "id": "aPNqr7YMW6t0"
   },
   "source": [
    "## Build the data-set\n",
    "\n",
    "As we are not able to acquire new data from unknown penguins during this practical, we will split the data-set we have in two parts, a *training set* for the initialization  and a *test set* that we'll use to check the quality of the result."
   ]
  },
  {
   "cell_type": "code",
   "execution_count": null,
   "metadata": {
    "ExecuteTime": {
     "end_time": "2023-11-07T14:35:11.839103Z",
     "start_time": "2023-11-07T14:35:11.825820Z"
    },
    "colab": {
     "base_uri": "https://localhost:8080/",
     "height": 317
    },
    "executionInfo": {
     "elapsed": 384,
     "status": "ok",
     "timestamp": 1697641471656,
     "user": {
      "displayName": "Marc-André Delsuc",
      "userId": "14691951181681591806"
     },
     "user_tz": -120
    },
    "id": "bTHbiRHcW6t0",
    "outputId": "1e3803a1-929c-411f-ce7b-20b415993c39"
   },
   "outputs": [],
   "source": [
    "# first concatenate the different lists\n",
    "fulldata = pd.concat([adelie,gentoo,chinstrap], keys=['adelie','gentoo','chinstrap']) #.plot.scatter(x=\"bill_length\", y=\"bill_depth\")\n",
    "print(\"concatenated dataset has %d entries\"%(len(fulldata)))\n",
    "\n",
    "# get the typology\n",
    "typo = fulldata.index.codes[0] # 0 for adelie  1 for gentoo  2 for chinstrap\n",
    "\n",
    "# then keep only the 4 numerical features: bill_length, bill_depth, flipper_length, mass\n",
    "simpledata = fulldata[[\"bill_length\", \"bill_depth\", \"flipper_length\", \"mass\"]]\n",
    "simpledata.describe()"
   ]
  },
  {
   "cell_type": "markdown",
   "metadata": {
    "id": "zvWRwHFpW6t1"
   },
   "source": [
    "and plot one example"
   ]
  },
  {
   "cell_type": "code",
   "execution_count": null,
   "metadata": {
    "ExecuteTime": {
     "end_time": "2023-11-07T14:35:18.223084Z",
     "start_time": "2023-11-07T14:35:18.112350Z"
    },
    "colab": {
     "base_uri": "https://localhost:8080/",
     "height": 467
    },
    "executionInfo": {
     "elapsed": 1283,
     "status": "ok",
     "timestamp": 1697641478130,
     "user": {
      "displayName": "Marc-André Delsuc",
      "userId": "14691951181681591806"
     },
     "user_tz": -120
    },
    "id": "mk4gpwuiW6t1",
    "outputId": "3922c3b5-a464-47ee-c89f-6cf42af8f7ed"
   },
   "outputs": [],
   "source": [
    "# bill length/depth\n",
    "fig,ax = plt.subplots()\n",
    "simpledata.plot.scatter(x=\"bill_length\", y=\"bill_depth\", color='b', ax=ax)\n"
   ]
  },
  {
   "cell_type": "markdown",
   "metadata": {
    "id": "cRX8m_8bW6t1"
   },
   "source": [
    "on little difficulty - 342 values for 344 entries => there are empty entries !\n",
    "\n",
    "Check the csv file above.\n",
    "\n",
    "and check this:"
   ]
  },
  {
   "cell_type": "code",
   "execution_count": null,
   "metadata": {
    "ExecuteTime": {
     "end_time": "2023-11-07T14:36:05.426665Z",
     "start_time": "2023-11-07T14:36:05.422183Z"
    },
    "colab": {
     "base_uri": "https://localhost:8080/"
    },
    "executionInfo": {
     "elapsed": 11,
     "status": "ok",
     "timestamp": 1697641769933,
     "user": {
      "displayName": "Marc-André Delsuc",
      "userId": "14691951181681591806"
     },
     "user_tz": -120
    },
    "id": "cDlt2EItW6t1",
    "outputId": "30554153-f052-4b76-f592-29386aa581d7"
   },
   "outputs": [],
   "source": [
    "simpledata['bill_length'][1:5]"
   ]
  },
  {
   "cell_type": "markdown",
   "metadata": {
    "id": "dT-X9RivW6t2"
   },
   "source": [
    "nan or `NaN` stands for **N**ot**AN**umber and is used whenever a numerical value is missing.\n",
    "\n",
    "**Most code will stop if there are `NaN` in the dataset** (but not plotting methods)\n",
    "\n",
    "=> we have to remove these values, and \"clean\" the data-set\n",
    "\n",
    "**By chance**\n",
    "\n",
    "*missing values* are **i)** very common **ii)** very easy to clean when there are only a few\n",
    "\n",
    "correcting for missing values is required when there are many of them. *Imputation* means that a value is set to the missing values.\n",
    "\n",
    "- What would be the best imputation method here ?\n",
    "- Which bias  each method would add to the analysis"
   ]
  },
  {
   "cell_type": "code",
   "execution_count": null,
   "metadata": {
    "ExecuteTime": {
     "end_time": "2023-11-07T14:36:15.804749Z",
     "start_time": "2023-11-07T14:36:15.800877Z"
    },
    "executionInfo": {
     "elapsed": 388,
     "status": "ok",
     "timestamp": 1697641815897,
     "user": {
      "displayName": "Marc-André Delsuc",
      "userId": "14691951181681591806"
     },
     "user_tz": -120
    },
    "id": "kun_fM0SW6t2"
   },
   "outputs": [],
   "source": [
    "cleaned = simpledata.dropna()\n",
    "typo = cleaned.index.codes[0]"
   ]
  },
  {
   "cell_type": "markdown",
   "metadata": {
    "id": "uvbiHgEhW6t2"
   },
   "source": [
    "## We can always plot a 3D view\n"
   ]
  },
  {
   "cell_type": "code",
   "execution_count": null,
   "metadata": {
    "ExecuteTime": {
     "end_time": "2023-11-07T14:37:29.147757Z",
     "start_time": "2023-11-07T14:37:29.143429Z"
    },
    "executionInfo": {
     "elapsed": 381,
     "status": "ok",
     "timestamp": 1697641507111,
     "user": {
      "displayName": "Marc-André Delsuc",
      "userId": "14691951181681591806"
     },
     "user_tz": -120
    },
    "id": "fzkHaJFqW6t2",
    "scrolled": true
   },
   "outputs": [],
   "source": [
    "from mpl_toolkits.mplot3d import Axes3D\n",
    "def ftc3(elevation=30.0, azimuth=60.0):\n",
    "    fig = plt.figure()\n",
    "    ax = fig.add_subplot(projection='3d')\n",
    "    ax.scatter(simpledata.flipper_length, simpledata.bill_length, simpledata.mass, marker='o')\n",
    "    ax.view_init(elev=elevation, azim=azimuth, roll=0)\n",
    "# interactive( ftc3, elevation=(1.0,90), azimuth=(0.0,180)) # this will work on your PC"
   ]
  },
  {
   "cell_type": "code",
   "execution_count": null,
   "metadata": {
    "ExecuteTime": {
     "end_time": "2023-11-07T14:37:50.368096Z",
     "start_time": "2023-11-07T14:37:50.256557Z"
    },
    "colab": {
     "base_uri": "https://localhost:8080/",
     "height": 430
    },
    "executionInfo": {
     "elapsed": 1261,
     "status": "ok",
     "timestamp": 1697641569821,
     "user": {
      "displayName": "Marc-André Delsuc",
      "userId": "14691951181681591806"
     },
     "user_tz": -120
    },
    "id": "T2NqyB0s_v7k",
    "outputId": "5c432d48-da02-44be-ec7b-08967d4c78dd"
   },
   "outputs": [],
   "source": [
    "ftc3(elevation=30, azimuth=10)  # static view - change elevation and azimuth"
   ]
  },
  {
   "cell_type": "markdown",
   "metadata": {},
   "source": [
    "# Q4\n",
    "try to find `elevation` and `azimuth` values to optimize the display"
   ]
  },
  {
   "cell_type": "markdown",
   "metadata": {
    "id": "Y3t-5dpEW6t3"
   },
   "source": [
    "But it is nevertheless a 2D plot !!! on the screen (there are virtual immersive solution, but beyond access right now)\n",
    "\n",
    "And it is **Only** 3 dimension, **what about** 4 - or 144 - or 1000 dimensions !!!"
   ]
  },
  {
   "cell_type": "markdown",
   "metadata": {
    "id": "08RXa1h6W6t4"
   },
   "source": [
    "**We'll do better** - find the BEST 2D representation:\n",
    "\n",
    "- the one with more extension on the plane\n",
    "\n",
    "## Projection using PCA\n",
    "Principal component Analysis *(ACP Analyse en Composantes Principales)* is a very common approach which consists in, for a $N$ dimensional object, in  finding a projection of this object in a $P$ dimensional space, with $P<N$.\n",
    "\n",
    "Reducing the dimension of the problem is a standard way of reducing the size of a high dimension data-set by embeding it into a lower dimension space, witout loosing to much information. Reducing the size of the data-set allows to apply more complex methods which require more processing power or large memory space.\n",
    "\n",
    "Another use of this technique is to project to 2D or 3D space, so that a meaning full picture can be build (which is not possible in higher dimensions)\n",
    "\n",
    "Here we have $N=4$ and we can project it in 2D ($P=2$) for an easier estimate of the results.\n",
    "\n",
    "PCA choose the orientation where the cloud of points have the largest extension (the correct word is *largest intertial moment* ).\n",
    "The largest extention axis is called the first Principal Component **PC1** then **PC2**.\n",
    "The following ones PC3 and PC4 here are smaller hidden (or drawn orthogonal to the screen if you wish)\n",
    "\n",
    "To do this trick, PCA can use several methods *(which differ mostly by their speed/robustness against very large data-sets)*.\n",
    "Standard methods are : Diagonalisation, SVD, incremental SVD, NIPALS, ...\n"
   ]
  },
  {
   "cell_type": "code",
   "execution_count": null,
   "metadata": {
    "ExecuteTime": {
     "end_time": "2023-11-07T14:39:01.873613Z",
     "start_time": "2023-11-07T14:39:01.580945Z"
    },
    "colab": {
     "base_uri": "https://localhost:8080/",
     "height": 447
    },
    "executionInfo": {
     "elapsed": 720,
     "status": "ok",
     "timestamp": 1697641849638,
     "user": {
      "displayName": "Marc-André Delsuc",
      "userId": "14691951181681591806"
     },
     "user_tz": -120
    },
    "id": "yxHsAMZkW6t4",
    "outputId": "cbe5cbca-e848-4f90-8bb9-6e156d44a8bd"
   },
   "outputs": [],
   "source": [
    "# from https://sklearn.org/auto_examples/decomposition/plot_pca_vs_lda.html#sphx-glr-auto-examples-decomposition-plot-pca-vs-lda-py\n",
    "from sklearn.decomposition import PCA\n",
    "pca = PCA(n_components=2)\n",
    "solpca = pca.fit(cleaned)\n",
    "X_r = solpca.transform(cleaned)\n",
    "print('explained variance ratio (first two components): %s'\n",
    "      % str(pca.explained_variance_ratio_))\n",
    "\n",
    "colors = ['navy', 'turquoise', 'darkorange']\n",
    "names = [adelie, gentoo, chinstrap]\n",
    "lw = 2\n",
    "#plt.scatter(X_r[typo==0,0], X_r[typo==0,1])\n",
    "for color, i, target_name in zip(colors, [0, 1, 2], names):\n",
    "    plt.scatter(X_r[typo == i, 0], X_r[typo == i, 1], alpha=.8, lw=lw, label=target_name)\n"
   ]
  },
  {
   "cell_type": "markdown",
   "metadata": {
    "id": "WQzjXKm7W6t5"
   },
   "source": [
    "### The projection chosen by the PCA is stored by a rotation matrix"
   ]
  },
  {
   "cell_type": "code",
   "execution_count": null,
   "metadata": {
    "ExecuteTime": {
     "end_time": "2023-11-07T14:39:06.748045Z",
     "start_time": "2023-11-07T14:39:06.745090Z"
    },
    "colab": {
     "base_uri": "https://localhost:8080/"
    },
    "executionInfo": {
     "elapsed": 14,
     "status": "ok",
     "timestamp": 1697618417259,
     "user": {
      "displayName": "Marc-André Delsuc",
      "userId": "14691951181681591806"
     },
     "user_tz": -120
    },
    "id": "Aqpl91wgW6t5",
    "outputId": "bd74af03-68db-4b75-971a-416965ec16e5"
   },
   "outputs": [],
   "source": [
    "solpca.components_"
   ]
  },
  {
   "cell_type": "markdown",
   "metadata": {
    "id": "dcFAguOPW6t5"
   },
   "source": [
    "The way the data variables are displayed in this projection infroms about their weight in the description of the point cloud.\n",
    "We can display them in the projection axis:"
   ]
  },
  {
   "cell_type": "code",
   "execution_count": null,
   "metadata": {
    "ExecuteTime": {
     "end_time": "2023-11-07T14:39:51.517451Z",
     "start_time": "2023-11-07T14:39:51.416487Z"
    },
    "colab": {
     "base_uri": "https://localhost:8080/",
     "height": 522
    },
    "executionInfo": {
     "elapsed": 564,
     "status": "ok",
     "timestamp": 1697618417810,
     "user": {
      "displayName": "Marc-André Delsuc",
      "userId": "14691951181681591806"
     },
     "user_tz": -120
    },
    "id": "C__E02rjW6t5",
    "outputId": "7cb666ac-eea4-4824-938f-27669cb3591d"
   },
   "outputs": [],
   "source": [
    "def draw_var(solution):\n",
    "    t = np.linspace(0,2*np.pi,2000)\n",
    "    fig,ax = plt.subplots(figsize=(6,6))\n",
    "    ax.plot(np.cos(t), np.sin(t), 'k--')\n",
    "    ax.plot([-1.1,1.1],[0,0], 'k', lw=0.5)\n",
    "    ax.plot([0,0], [-1.1,1.1], 'k', lw=0.5)\n",
    "    colors=('b','r','g','c')\n",
    "    for i in range(4):\n",
    "        ax.arrow(0,0, solution[0,i],solution[1,i], length_includes_head=True, head_width=0.05, head_length=0.1, color=colors[i])\n",
    "        ax.text(solution[0,i]+0.03, solution[1,i]+0.01, feature_list[i], color=colors[i])\n",
    "draw_var(solpca.components_)"
   ]
  },
  {
   "cell_type": "markdown",
   "metadata": {
    "id": "SDOzi_IuW6t6"
   },
   "source": [
    "# Supervised / Unsupervised\n",
    "\n",
    "It is important to realize that PCA did not know any thing about the 3 penguin species.\n",
    "It only had a big flat array to crunch.\n",
    "It is called an **Unsupervised** analysis.\n",
    "Even though, it did not know much about the species, it rather did a good job in separating the 3.\n",
    "\n",
    "On the other hand, if we know which species are each individual penguins, we can try to find a 2D projection which better separate the three species.\n",
    "This is called a **Supervised** Analysis.\n",
    "*Linear Discriminant Analysis* is an equivalent to PCA when classes are known.\n",
    "Let's compare them."
   ]
  },
  {
   "cell_type": "code",
   "execution_count": null,
   "metadata": {
    "ExecuteTime": {
     "end_time": "2023-11-07T14:39:57.862678Z",
     "start_time": "2023-11-07T14:39:57.728033Z"
    },
    "colab": {
     "base_uri": "https://localhost:8080/",
     "height": 447
    },
    "executionInfo": {
     "elapsed": 1060,
     "status": "ok",
     "timestamp": 1697642226506,
     "user": {
      "displayName": "Marc-André Delsuc",
      "userId": "14691951181681591806"
     },
     "user_tz": -120
    },
    "id": "XSoYDY7VW6t7",
    "outputId": "df867e21-4998-4280-c558-a9cc7af51b5c"
   },
   "outputs": [],
   "source": [
    "# from https://sklearn.org/auto_examples/decomposition/plot_pca_vs_lda.html#sphx-glr-auto-examples-decomposition-plot-pca-vs-lda-py\n",
    "from sklearn.discriminant_analysis import LinearDiscriminantAnalysis as LDA\n",
    "lda = LDA(n_components=2)\n",
    "sollda = lda.fit(cleaned, typo)\n",
    "\n",
    "X_r = sollda.transform(cleaned)\n",
    "print('explained variance ratio (first two components): %s'\n",
    "      % str(lda.explained_variance_ratio_))\n",
    "\n",
    "colors = ['navy', 'turquoise', 'darkorange']\n",
    "lw = 2\n",
    "#plt.scatter(X_r[typo==0,0], X_r[typo==0,1])\n",
    "for color, i, target_name in zip(colors, [0, 1, 2], (adelie, gentoo, chinstrap)):\n",
    "    plt.scatter(X_r[typo == i, 0], X_r[typo == i, 1], alpha=.8, lw=lw, label=target_name)\n"
   ]
  },
  {
   "cell_type": "markdown",
   "metadata": {},
   "source": [
    "# Q5\n",
    "compare PCA and LDA\n",
    "\n",
    "what is the difference in terms of\n",
    "- given information to the program\n",
    "- returned information by the program"
   ]
  },
  {
   "cell_type": "markdown",
   "metadata": {
    "id": "A0oauItSW6t8"
   },
   "source": [
    "# Classification\n",
    "\n",
    "Let's imagine we have measured the penguins characteristics in a blind manner, without knowing their species. Would we be able to tell which is which ?\n",
    "\n",
    "This is the role of a classifier - which will create rules from examples, in order to separate the classes.\n",
    "The rules are *learned* from a *training set* and can then be applied on any new data.\n"
   ]
  },
  {
   "cell_type": "markdown",
   "metadata": {
    "id": "RB81HuJry0iw"
   },
   "source": [
    "## Build the data-set\n",
    "\n",
    "As we are not able to acquire new data from unknown penguins during this practical, we will split the data-set we have in two parts, a *training set* for the initialization  and a *test set* that we'll use to check the quality of the result."
   ]
  },
  {
   "cell_type": "code",
   "execution_count": null,
   "metadata": {
    "ExecuteTime": {
     "end_time": "2023-11-07T15:05:12.315241Z",
     "start_time": "2023-11-07T15:05:12.308559Z"
    },
    "colab": {
     "base_uri": "https://localhost:8080/"
    },
    "executionInfo": {
     "elapsed": 407,
     "status": "ok",
     "timestamp": 1697642448075,
     "user": {
      "displayName": "Marc-André Delsuc",
      "userId": "14691951181681591806"
     },
     "user_tz": -120
    },
    "id": "tt3bLWj1W6t8",
    "outputId": "51aeece7-2d9e-44ea-e55a-9a17c9db8f6d"
   },
   "outputs": [],
   "source": [
    "# first concatenate the different lists\n",
    "fulldata = pd.concat([adelie,gentoo,chinstrap], keys=['adelie','gentoo','chinstrap']) #.plot.scatter(x=\"bill_length\", y=\"bill_depth\")\n",
    "print(\"concatenated dataset has %d entries\"%(len(fulldata)))\n",
    "\n",
    "\n",
    "# get the typology\n",
    "typo = fulldata.index.codes[0] # 0 for adelie  1 for gentoo  2 for chinstrap\n",
    "\n",
    "# then keep only the 4 numerical features: bill_length, bill_depth, flipper_length, mass\n",
    "simpledata = fulldata[[\"bill_length\", \"bill_depth\", \"flipper_length\", \"mass\"]]"
   ]
  },
  {
   "cell_type": "markdown",
   "metadata": {
    "id": "I8kU55jpzjws"
   },
   "source": [
    "## very important step -\n",
    "separate Training and Test subsets\n",
    "\n",
    "`test_size=0.25` below means that 25% of the entries will be randomly kept aside, not used for the training , and used for the test step.\n",
    "\n"
   ]
  },
  {
   "cell_type": "code",
   "execution_count": null,
   "metadata": {
    "ExecuteTime": {
     "end_time": "2023-11-07T15:05:13.706373Z",
     "start_time": "2023-11-07T15:05:13.703253Z"
    },
    "executionInfo": {
     "elapsed": 4,
     "status": "ok",
     "timestamp": 1697643174290,
     "user": {
      "displayName": "Marc-André Delsuc",
      "userId": "14691951181681591806"
     },
     "user_tz": -120
    },
    "id": "IKSF9dyAzZwI"
   },
   "outputs": [],
   "source": [
    "from sklearn.model_selection import train_test_split\n",
    "# train_test_split does the work for us\n",
    "# we use standard X and y nomenclature\n",
    "X_train, X_test, y_train, y_test = train_test_split(simpledata, typo, test_size=0.25)\n"
   ]
  },
  {
   "cell_type": "markdown",
   "metadata": {},
   "source": [
    "# Q6\n",
    "check manually the created arrays6"
   ]
  },
  {
   "cell_type": "markdown",
   "metadata": {
    "id": "jpSjWc2N0oOX"
   },
   "source": [
    "we actually want to predict `y` given `X` using `y_train` and `X_train` as exemple for *Machine Learning* !!!\n",
    "\n",
    "As `y` is limited to 3 values, it is a **Classification** problem."
   ]
  },
  {
   "cell_type": "markdown",
   "metadata": {
    "id": "G1BRtvxGy8US"
   },
   "source": [
    "## There are many Classification methods\n",
    "\n",
    "see here for instance [This page](https://scikit-learn.org/stable/auto_examples/classification/plot_classifier_comparison.html)\n",
    "\n",
    "We are going to explore just a few\n",
    "\n",
    "- KNN - a fast an standard one\n",
    "- random forest - because of specific interesting properties"
   ]
  },
  {
   "cell_type": "markdown",
   "metadata": {
    "id": "qk8xrYKO1Sdj"
   },
   "source": [
    "## KNN\n",
    "$K^{th}$ Nearest Neighbors is a standard and rapid classifier method, based on an iterative algorithm aggregating points with respect to their distance.\n",
    "\n",
    "see documentation:\n",
    "[principle](https://scikit-learn.org/stable/modules/neighbors.html#nearest-neighbors-classification)\n",
    "and\n",
    "[code](https://scikit-learn.org/stable/modules/generated/sklearn.neighbors.KNeighborsClassifier.html)\n"
   ]
  },
  {
   "cell_type": "code",
   "execution_count": null,
   "metadata": {
    "ExecuteTime": {
     "end_time": "2023-11-07T15:05:44.330609Z",
     "start_time": "2023-11-07T15:05:44.321858Z"
    },
    "colab": {
     "base_uri": "https://localhost:8080/",
     "height": 423
    },
    "executionInfo": {
     "elapsed": 517,
     "status": "ok",
     "timestamp": 1697643182277,
     "user": {
      "displayName": "Marc-André Delsuc",
      "userId": "14691951181681591806"
     },
     "user_tz": -120
    },
    "id": "KGLo6Vjy9LZF",
    "outputId": "0114763d-4a94-4daf-aee3-41d775e45e8a"
   },
   "outputs": [],
   "source": [
    "X_train"
   ]
  },
  {
   "cell_type": "code",
   "execution_count": null,
   "metadata": {
    "ExecuteTime": {
     "end_time": "2023-11-07T15:05:46.460207Z",
     "start_time": "2023-11-07T15:05:46.443115Z"
    },
    "colab": {
     "base_uri": "https://localhost:8080/",
     "height": 611
    },
    "executionInfo": {
     "elapsed": 421,
     "status": "error",
     "timestamp": 1697643184750,
     "user": {
      "displayName": "Marc-André Delsuc",
      "userId": "14691951181681591806"
     },
     "user_tz": -120
    },
    "id": "exs6T0HI0gpd",
    "outputId": "9bb246e5-47fe-48d7-b950-3928a50c608c"
   },
   "outputs": [],
   "source": [
    "from sklearn.neighbors import KNeighborsClassifier\n",
    "clf = KNeighborsClassifier(n_neighbors=3)\n",
    "clf.fit(X_train, y_train)\n",
    "score = clf.score(X_test, y_test)"
   ]
  },
  {
   "cell_type": "markdown",
   "metadata": {
    "id": "fCx_JOPqBQPg"
   },
   "source": [
    "# It crashed !  😭\n",
    "\n",
    "# Q7\n",
    "## what happens ???\n",
    "\n",
    "the code above did not work as there are `NaN` in the dataset (look at last error message)\n",
    "\n",
    "=> we have to remove these values, and \"clean\" the data-set\n",
    "\n"
   ]
  },
  {
   "cell_type": "markdown",
   "metadata": {
    "id": "Z8sffBmRBz54"
   },
   "source": [
    "\n",
    "by chance *missing values* are **i)** very common **ii)** very easy to clean when there are only a few\n",
    "\n",
    "correcting for missing values is required when there are many of them. *Imputation* means that a value is set to the missing values.\n",
    "\n",
    "- What would be the best imputation method here ?\n",
    "- Which bias  each method would add to the analysis\n",
    "\n",
    "# Solutions\n",
    "#### 6.1 imputation\n",
    "- In the case of the entry found above, it would be useless to set arbitrary values as this entry does not carry any information - neither for training nor for classifying\n",
    "- In a possible case where one of the features would not be measure while the other are measured, the missing could be assigned to the mean value for instance.\n",
    "\n",
    "#### 6.2 bias\n",
    "- in the case of a feature value having a roughly Normal distribution - say mass - imputing the mean value of this distribution is probably not adding a bias, except may be for the tails of the distribution\n",
    "- if too many values are missing for a given feature, then the exact value of the mean will appear with a too high probability in the imputed data-set, creating a bias. In this case, it might be a good idea to impute with a random value following the natural distribution (for instance mean + a random shift computed from standard deviation)\n",
    "- in the case of a non Normal distribution (for instance long tail, or binomial), this is more complex, and should be considered with a lot of care !"
   ]
  },
  {
   "cell_type": "code",
   "execution_count": null,
   "metadata": {
    "ExecuteTime": {
     "end_time": "2023-11-07T15:43:17.531657Z",
     "start_time": "2023-11-07T15:43:17.524530Z"
    },
    "colab": {
     "base_uri": "https://localhost:8080/"
    },
    "executionInfo": {
     "elapsed": 724,
     "status": "ok",
     "timestamp": 1697643328513,
     "user": {
      "displayName": "Marc-André Delsuc",
      "userId": "14691951181681591806"
     },
     "user_tz": -120
    },
    "id": "bMasqiweBj_V",
    "outputId": "7f4c33a9-1c81-4495-ba2d-7a0f41c0b3d2"
   },
   "outputs": [],
   "source": [
    "# clean the data-set by removing entries with NaN entries\n",
    "cleaned = simpledata.dropna()\n",
    "print(\"cleaned dataset has %d entries\"%(len(cleaned)))"
   ]
  },
  {
   "cell_type": "markdown",
   "metadata": {
    "id": "jjxejHfrCOVd"
   },
   "source": [
    "it's ok, we did not loose too many entries\n",
    "\n",
    "so we redo the typo and the splitting"
   ]
  },
  {
   "cell_type": "code",
   "execution_count": null,
   "metadata": {
    "ExecuteTime": {
     "end_time": "2023-11-07T15:43:17.540194Z",
     "start_time": "2023-11-07T15:43:17.532980Z"
    },
    "colab": {
     "base_uri": "https://localhost:8080/",
     "height": 74
    },
    "executionInfo": {
     "elapsed": 19,
     "status": "ok",
     "timestamp": 1697643338838,
     "user": {
      "displayName": "Marc-André Delsuc",
      "userId": "14691951181681591806"
     },
     "user_tz": -120
    },
    "id": "dY-_uHp-CHVp",
    "outputId": "cc95ff00-715f-40a0-8bd2-0833e1fbab02"
   },
   "outputs": [],
   "source": [
    "from sklearn.neighbors import KNeighborsClassifier\n",
    "cleaned = simpledata.dropna()\n",
    "typo = cleaned.index.codes[0] # 0 for adelie  1 for gentoo  2 for chinstrap\n",
    "X_train, X_test, y_train, y_test = train_test_split(cleaned, typo, test_size=0.25)\n",
    "clf = KNeighborsClassifier(n_neighbors=3)\n",
    "clf.fit(X_train, y_train)\n"
   ]
  },
  {
   "cell_type": "code",
   "execution_count": null,
   "metadata": {
    "ExecuteTime": {
     "end_time": "2023-11-07T15:43:17.554403Z",
     "start_time": "2023-11-07T15:43:17.541411Z"
    },
    "colab": {
     "base_uri": "https://localhost:8080/"
    },
    "executionInfo": {
     "elapsed": 608,
     "status": "ok",
     "timestamp": 1697643439331,
     "user": {
      "displayName": "Marc-André Delsuc",
      "userId": "14691951181681591806"
     },
     "user_tz": -120
    },
    "id": "pgB4hYysCQod",
    "outputId": "a25ea19a-9829-4824-c148-d34c99506418"
   },
   "outputs": [],
   "source": [
    "# That was fast, let's test the quality\n",
    "print(\"Mean accuracy of test after training\",clf.score(X_train, list(y_train)))"
   ]
  },
  {
   "cell_type": "markdown",
   "metadata": {
    "id": "8ErST4Q-CcCo"
   },
   "source": [
    "## checking the quality of the result\n",
    "\n",
    "## Confusion Matrix\n",
    "\n",
    "We'll use and create some tools:"
   ]
  },
  {
   "cell_type": "code",
   "execution_count": null,
   "metadata": {
    "ExecuteTime": {
     "end_time": "2023-11-07T15:43:17.559062Z",
     "start_time": "2023-11-07T15:43:17.555822Z"
    },
    "executionInfo": {
     "elapsed": 392,
     "status": "ok",
     "timestamp": 1697643447115,
     "user": {
      "displayName": "Marc-André Delsuc",
      "userId": "14691951181681591806"
     },
     "user_tz": -120
    },
    "id": "YaBg_vEnCWAl"
   },
   "outputs": [],
   "source": [
    "from sklearn.metrics import confusion_matrix, classification_report, matthews_corrcoef\n",
    "try:  # it's kind of a new version...\n",
    "    from sklearn.metrics import ConfusionMatrixDisplay\n",
    "except:\n",
    "    ConfusionMatrixDisplay = None\n",
    "    pass # we'll do without\n",
    "from sklearn.metrics import accuracy_score\n",
    "\n",
    "def report(y_true, y_predicted):\n",
    "    \"output a few descriptors of the quality of a classifier\"\n",
    "    cm = confusion_matrix(y_true, y_predicted)\n",
    "#    print(\"Classification report for classifier\\n%s:\\n\\n%s\"% (clf, classification_report(y_true, y_predicted)))\n",
    "    print(\"Mean accuracy: %.3f\"%accuracy_score(list(y_true), list(y_predicted)))\n",
    "    print(\"Matthew’s correlation coefficient: %.3f\"%matthews_corrcoef(y_true, y_predicted))\n",
    "    print(\"Confusion matrix:\\n\", str(cm))\n",
    "    if ConfusionMatrixDisplay:\n",
    "        dls = [\"adelie\", \"gentoo\", \"chinstrap\"]\n",
    "        disp = ConfusionMatrixDisplay(confusion_matrix=cm, display_labels=dls)\n",
    "        disp.plot()\n",
    "    else:\n",
    "        plt.imshow(confusion_matrix(y_true, y_predicted))\n"
   ]
  },
  {
   "cell_type": "markdown",
   "metadata": {
    "id": "iaf46Z30Cj30"
   },
   "source": [
    "### first on the training set"
   ]
  },
  {
   "cell_type": "code",
   "execution_count": null,
   "metadata": {
    "ExecuteTime": {
     "end_time": "2023-11-07T15:43:17.701926Z",
     "start_time": "2023-11-07T15:43:17.560195Z"
    },
    "colab": {
     "base_uri": "https://localhost:8080/",
     "height": 553
    },
    "executionInfo": {
     "elapsed": 820,
     "status": "ok",
     "timestamp": 1697643454428,
     "user": {
      "displayName": "Marc-André Delsuc",
      "userId": "14691951181681591806"
     },
     "user_tz": -120
    },
    "id": "ZbaXlE7LCbLl",
    "outputId": "48b3fa92-5a9e-40ce-b14c-5c0a853cffda"
   },
   "outputs": [],
   "source": [
    "report(y_train, clf.predict(X_train))"
   ]
  },
  {
   "cell_type": "markdown",
   "metadata": {
    "id": "Zw_BejwWCq9P"
   },
   "source": [
    "### then using the test set\n",
    "to see how the trained system is able to evaluate on unseen values so far"
   ]
  },
  {
   "cell_type": "code",
   "execution_count": null,
   "metadata": {
    "ExecuteTime": {
     "end_time": "2023-11-07T15:43:17.850598Z",
     "start_time": "2023-11-07T15:43:17.703027Z"
    },
    "colab": {
     "base_uri": "https://localhost:8080/",
     "height": 553
    },
    "executionInfo": {
     "elapsed": 628,
     "status": "ok",
     "timestamp": 1697619044931,
     "user": {
      "displayName": "Marc-André Delsuc",
      "userId": "14691951181681591806"
     },
     "user_tz": -120
    },
    "id": "yARRIRWFCl6I",
    "outputId": "f9955c1e-cb9b-4483-8144-71e5e8ae910f"
   },
   "outputs": [],
   "source": [
    "report(y_test, clf.predict(X_test))"
   ]
  },
  {
   "cell_type": "markdown",
   "metadata": {
    "id": "902Si7NHCyUr"
   },
   "source": [
    "Obviously, it is not so good.\n",
    "\n",
    "### We can check what does it say on the whole set\n",
    "first using the already trained system"
   ]
  },
  {
   "cell_type": "code",
   "execution_count": null,
   "metadata": {
    "ExecuteTime": {
     "end_time": "2023-11-07T15:43:18.004644Z",
     "start_time": "2023-11-07T15:43:17.851585Z"
    },
    "colab": {
     "base_uri": "https://localhost:8080/",
     "height": 553
    },
    "executionInfo": {
     "elapsed": 445,
     "status": "ok",
     "timestamp": 1697619047513,
     "user": {
      "displayName": "Marc-André Delsuc",
      "userId": "14691951181681591806"
     },
     "user_tz": -120
    },
    "id": "QoroCRaxCtF_",
    "outputId": "6f56938d-6a19-4e70-822c-41ad6fb83389"
   },
   "outputs": [],
   "source": [
    "report(typo, clf.predict(cleaned))"
   ]
  },
  {
   "cell_type": "markdown",
   "metadata": {
    "id": "rEDs483WC6tJ"
   },
   "source": [
    "### then using a new training\n",
    "on the whole data-set.\n",
    "\n",
    "that's where we can expect the best result, but we loose the test capacity"
   ]
  },
  {
   "cell_type": "code",
   "execution_count": null,
   "metadata": {
    "ExecuteTime": {
     "end_time": "2023-11-07T15:43:18.170645Z",
     "start_time": "2023-11-07T15:43:18.005771Z"
    },
    "colab": {
     "base_uri": "https://localhost:8080/",
     "height": 553
    },
    "executionInfo": {
     "elapsed": 628,
     "status": "ok",
     "timestamp": 1697619050759,
     "user": {
      "displayName": "Marc-André Delsuc",
      "userId": "14691951181681591806"
     },
     "user_tz": -120
    },
    "id": "FIWe71qEC0qv",
    "outputId": "dd4d3a0c-0457-4a43-a4fd-97341e8d389c"
   },
   "outputs": [],
   "source": [
    "clf2 = KNeighborsClassifier(n_neighbors=3)   # we create a new KNN clasifier\n",
    "clf2.fit(cleaned, typo)\n",
    "report(typo, clf2.predict(cleaned))"
   ]
  },
  {
   "cell_type": "markdown",
   "metadata": {
    "id": "bdykgq1dDAKh"
   },
   "source": [
    "This is indeed better !\n",
    "\n",
    "However we lost the capacity to evaluate the results in a satisfactory manner. *Cross-Validation* (i.e. check on data not seen during the training) is very important. [see here](https://scikit-learn.org/stable/modules/cross_validation.html) .\n",
    "\n",
    "In particular we want to avoid **over-fitting** where a model adapt very well to the training-set, but actually too well, even to the noisy fluctuation *(think of it as a selection which would draw a little square around every data pooint)*\n",
    "\n",
    "When we are dealing with a fast method and a small dataset (as it is here) it is possible to use the *Jack knife* method (called *leave one out* in scikit-learn - as used in the above link).\n",
    "\n",
    "The principle is to reduce the test-set to one sample, but to construct all the possible training, and construct a statistic from all the partial training.\n",
    "\n",
    "The method is readily available in scikit-learn [here](https://scikit-learn.org/stable/modules/generated/sklearn.model_selection.LeaveOneOut.html)\n",
    "\n",
    "[K-Fold](https://scikit-learn.org/stable/modules/generated/sklearn.model_selection.KFold.html#sklearn.model_selection.KFold) is another technique which is kind of intermediate between a simple test-set and Jack-knife\n"
   ]
  },
  {
   "cell_type": "markdown",
   "metadata": {
    "id": "dNlidLUYDD9q"
   },
   "source": [
    "### using LeaveOneOut *(Jack knife)*"
   ]
  },
  {
   "cell_type": "code",
   "execution_count": null,
   "metadata": {
    "ExecuteTime": {
     "end_time": "2023-11-07T15:43:18.175007Z",
     "start_time": "2023-11-07T15:43:18.171759Z"
    },
    "colab": {
     "base_uri": "https://localhost:8080/"
    },
    "executionInfo": {
     "elapsed": 329,
     "status": "ok",
     "timestamp": 1697643869644,
     "user": {
      "displayName": "Marc-André Delsuc",
      "userId": "14691951181681591806"
     },
     "user_tz": -120
    },
    "id": "P32uC5XFC85z",
    "outputId": "daef159b-08c9-4775-bd5b-43c37a63c58d"
   },
   "outputs": [],
   "source": [
    "from sklearn.model_selection import LeaveOneOut\n",
    "from time import time\n",
    "loo = LeaveOneOut()\n",
    "loo.get_n_splits(cleaned)"
   ]
  },
  {
   "cell_type": "code",
   "execution_count": null,
   "metadata": {
    "ExecuteTime": {
     "end_time": "2023-11-07T15:43:18.739321Z",
     "start_time": "2023-11-07T15:43:18.177880Z"
    },
    "colab": {
     "base_uri": "https://localhost:8080/",
     "height": 605
    },
    "executionInfo": {
     "elapsed": 1118,
     "status": "ok",
     "timestamp": 1697619057157,
     "user": {
      "displayName": "Marc-André Delsuc",
      "userId": "14691951181681591806"
     },
     "user_tz": -120
    },
    "id": "lJ5HyoUsDGUp",
    "outputId": "9cfec91a-5826-451e-ef97-d9b5476a41e9"
   },
   "outputs": [],
   "source": [
    "%%time\n",
    "y_pred = []\n",
    "cleanarray = cleaned.to_numpy()\n",
    "for train_index, test_index in loo.split(cleaned):     # for all element\n",
    "    clf2.fit(cleanarray[train_index], typo[train_index])  # do the fit\n",
    "    y_pred.append( clf2.predict(cleanarray[test_index])[0] )\n",
    "report(typo, y_pred)\n",
    "print()"
   ]
  },
  {
   "cell_type": "markdown",
   "metadata": {
    "id": "1ao77_cDDYon"
   },
   "source": [
    "# normalizing the values\n",
    "\n",
    "It is possible to normalize the entries by removing the mean, and scaling by the standard deviation, so that each feature values follow roughly a normal law.\n",
    "\n",
    "Let's use https://scikit-learn.org/stable/modules/generated/sklearn.preprocessing.StandardScaler.html for that"
   ]
  },
  {
   "cell_type": "code",
   "execution_count": null,
   "metadata": {
    "ExecuteTime": {
     "end_time": "2023-11-07T15:43:18.746696Z",
     "start_time": "2023-11-07T15:43:18.740656Z"
    },
    "executionInfo": {
     "elapsed": 12,
     "status": "ok",
     "timestamp": 1697644379316,
     "user": {
      "displayName": "Marc-André Delsuc",
      "userId": "14691951181681591806"
     },
     "user_tz": -120
    },
    "id": "NGbaItuADvDX"
   },
   "outputs": [],
   "source": [
    "from sklearn.preprocessing import StandardScaler\n",
    "scaler = StandardScaler()  # create\n",
    "scaler.fit(cleaned)        # compute mu and sigma\n",
    "scaled = scaler.transform(cleaned)  # generate new data\n"
   ]
  },
  {
   "cell_type": "code",
   "execution_count": null,
   "metadata": {
    "ExecuteTime": {
     "end_time": "2023-11-07T15:43:18.761110Z",
     "start_time": "2023-11-07T15:43:18.748073Z"
    },
    "colab": {
     "base_uri": "https://localhost:8080/",
     "height": 1000
    },
    "executionInfo": {
     "elapsed": 11,
     "status": "ok",
     "timestamp": 1697644417927,
     "user": {
      "displayName": "Marc-André Delsuc",
      "userId": "14691951181681591806"
     },
     "user_tz": -120
    },
    "id": "z_x5WenIfAi_",
    "outputId": "bec58f3b-632c-4671-b8c0-0b6e7461d204"
   },
   "outputs": [],
   "source": [
    "pd.DataFrame(scaled)"
   ]
  },
  {
   "cell_type": "code",
   "execution_count": null,
   "metadata": {
    "ExecuteTime": {
     "end_time": "2023-11-07T15:43:19.305803Z",
     "start_time": "2023-11-07T15:43:18.762373Z"
    },
    "colab": {
     "base_uri": "https://localhost:8080/",
     "height": 571
    },
    "executionInfo": {
     "elapsed": 1282,
     "status": "ok",
     "timestamp": 1697619060846,
     "user": {
      "displayName": "Marc-André Delsuc",
      "userId": "14691951181681591806"
     },
     "user_tz": -120
    },
    "id": "HD5J41wRDJdg",
    "outputId": "ef24650b-6b09-4708-cede-2486bc391cf0"
   },
   "outputs": [],
   "source": [
    "clf2 = KNeighborsClassifier(n_neighbors=3)   # we create a new KNN clasifier\n",
    "\n",
    "y_pred = []\n",
    "loo = LeaveOneOut()\n",
    "for train_index, test_index in loo.split(scaled):     # for all element\n",
    "    clf2.fit(scaled[train_index], typo[train_index])  # do the fit\n",
    "    y_pred.append( clf2.predict(scaled[test_index])[0] )\n",
    "report(typo, y_pred)\n",
    "print()\n"
   ]
  },
  {
   "cell_type": "markdown",
   "metadata": {},
   "source": [
    "# Q8\n",
    "What is happening here"
   ]
  },
  {
   "cell_type": "markdown",
   "metadata": {
    "id": "Hwhh0mMMD2IS"
   },
   "source": [
    "this is obviously **MUCH** better - it is a bit unintuitive, as we feel that the value size (large, small) is an important feature - but it is not !\n",
    "\n"
   ]
  },
  {
   "cell_type": "markdown",
   "metadata": {},
   "source": [
    "# Let's continue"
   ]
  },
  {
   "cell_type": "markdown",
   "metadata": {
    "id": "B67CnRaoD-hq"
   },
   "source": [
    "## random forest\n",
    "is yet another classifier.\n",
    "\n",
    "*(sorry for this explanation that was missing in the distributed version)*\n",
    "\n",
    "#### decision trees\n",
    "It is based on the [**decision tree**](https://en.wikipedia.org/wiki/Decision_tree) tool which is a set of rules on the value of selected features.\n",
    "\n",
    "However, there are many ways to construct such a decision tree, depending on the data, but also how you start to look at it (hos you *bootstrap* the analysis).\n",
    "So many different trees are possible, so let's plant a forest of different decision trees.\n",
    "This will be the **random forest**.\n",
    "\n",
    "So on a given prediction question, each tree of the forest will give an answer, possibly different, and we will use each answer as a ballot, and choose the winner of the vote.\n",
    "\n",
    "#### This approach has many advantages\n",
    "- the rules in the decision tree give a *rational* for the prediction of the program, something other models usually cannot provide\n",
    "- the result of the ballot gives a measure of the confidence of the prediction.\n",
    "- there are many hyperparameter to adapt to your problem (min and max size of the trees, size of the forest, optimization algorithm, etc.)\n",
    "\n",
    "#### However\n",
    "it is sensitive to overfitting, in particular in the case of small datasets (imagine a rule per sample => no generalization is possible)"
   ]
  },
  {
   "cell_type": "markdown",
   "metadata": {
    "id": "34UsWCtfD-Op"
   },
   "source": [
    "# Implementing it\n",
    "\n",
    "The documentation is [here](https://scikit-learn.org/stable/modules/generated/sklearn.ensemble.RandomForestClassifier.html)\n",
    "\n",
    "By chance, the API of scikit-learn (application Programming Interface) is very **regular**, and it is just a matter of copying things over from the previous examples"
   ]
  },
  {
   "cell_type": "code",
   "execution_count": null,
   "metadata": {
    "ExecuteTime": {
     "end_time": "2023-11-07T15:43:19.922927Z",
     "start_time": "2023-11-07T15:43:19.674924Z"
    },
    "colab": {
     "base_uri": "https://localhost:8080/",
     "height": 588
    },
    "executionInfo": {
     "elapsed": 1378,
     "status": "ok",
     "timestamp": 1697619065653,
     "user": {
      "displayName": "Marc-André Delsuc",
      "userId": "14691951181681591806"
     },
     "user_tz": -120
    },
    "id": "jHzisl7ZDq42",
    "outputId": "5c470a2e-7a26-49c6-c7b5-01ef171a5b64"
   },
   "outputs": [],
   "source": [
    "# import that new tool\n",
    "from sklearn.ensemble import RandomForestClassifier\n",
    "\n",
    "# create the classifier, using default values\n",
    "clfrf = RandomForestClassifier()\n",
    "\n",
    "# split dataset as usual\n",
    "X_train, X_test, y_train, y_test = train_test_split(cleaned, typo, test_size=0.25)\n",
    "\n",
    "# do the training\n",
    "clfrf.fit(X_train, y_train)\n",
    "\n",
    "# now report\n",
    "print('on test set')\n",
    "print('===========')\n",
    "\n",
    "report(y_test, clfrf.predict(X_test))"
   ]
  },
  {
   "cell_type": "markdown",
   "metadata": {
    "id": "ihfJ8j4REcvt"
   },
   "source": [
    "Really impressive - could be some kind of overfitting is taking place.\n",
    "\n",
    "Let's test that with some validation.\n",
    "\n",
    "#### First Jack knife\n",
    "(possible here because Random Forest is not too slow, while slower than KNN)"
   ]
  },
  {
   "cell_type": "code",
   "execution_count": null,
   "metadata": {
    "ExecuteTime": {
     "end_time": "2023-11-07T15:43:48.746082Z",
     "start_time": "2023-11-07T15:43:19.924042Z"
    },
    "colab": {
     "base_uri": "https://localhost:8080/",
     "height": 571
    },
    "executionInfo": {
     "elapsed": 65391,
     "status": "ok",
     "timestamp": 1697619132128,
     "user": {
      "displayName": "Marc-André Delsuc",
      "userId": "14691951181681591806"
     },
     "user_tz": -120
    },
    "id": "XDP_UekmEPhS",
    "outputId": "6a093951-fe74-4791-fa4d-6f43335aef25"
   },
   "outputs": [],
   "source": [
    "clfrf = RandomForestClassifier()\n",
    "\n",
    "y_pred = []\n",
    "loo = LeaveOneOut()\n",
    "cleanarray = cleaned.to_numpy()\n",
    "for train_index, test_index in loo.split(cleanarray):     # for all element\n",
    "    clfrf.fit(cleanarray[train_index], typo[train_index])  # do the fit\n",
    "    y_pred.append( clfrf.predict(cleanarray[test_index])[0] )\n",
    "report(typo, y_pred)\n",
    "print()\n"
   ]
  },
  {
   "cell_type": "markdown",
   "metadata": {
    "id": "VH2QiEJmE7G4"
   },
   "source": [
    "#### Then $k$-Fold validation\n",
    "which is a more stringent test for overfitting\n",
    "\n",
    "Documentation is [here](https://scikit-learn.org/stable/modules/cross_validation.html#k-fold)"
   ]
  },
  {
   "cell_type": "code",
   "execution_count": null,
   "metadata": {
    "ExecuteTime": {
     "end_time": "2023-11-07T15:43:49.701617Z",
     "start_time": "2023-11-07T15:43:48.747151Z"
    },
    "id": "WpaI-ku8EfXv"
   },
   "outputs": [],
   "source": [
    "from sklearn.model_selection import KFold\n",
    "\n",
    "# we'll do 10 repetitions (nb of repetitions determines the size of the test set)\n",
    "\n",
    "kfold = KFold(n_splits=10, shuffle=True)\n",
    "\n",
    "# again, the regularity of the PI simplifies the work !\n",
    "# however the set-up is quite different, as in LOO we had only one answer,\n",
    "\n",
    "# here we have a complete analysis, the best wayd is to build a confusion matrix for each split,\n",
    "# and take the mean - or the sum - at the end\n",
    "# idem for scores\n",
    "scores = []\n",
    "confmats = []\n",
    "cleanarray = cleaned.to_numpy()\n",
    "for train_index, test_index in kfold.split(cleanarray):     # for all element\n",
    "    clfrf.fit(cleanarray[train_index], typo[train_index])  # do the fit\n",
    "    y_true = typo[test_index]\n",
    "    y_predicted = clfrf.predict(cleanarray[test_index])\n",
    "    cm = confusion_matrix(y_true, y_predicted)\n",
    "    confmats.append(cm)\n",
    "    scores.append( accuracy_score(list(y_true), list(y_predicted)) )\n",
    "\n",
    "bigcore = sum(scores)/len(scores)\n",
    "bigcm = sum(confmats)"
   ]
  },
  {
   "cell_type": "markdown",
   "metadata": {
    "id": "b86nhgKPFJPk"
   },
   "source": [
    "and report"
   ]
  },
  {
   "cell_type": "code",
   "execution_count": null,
   "metadata": {
    "ExecuteTime": {
     "end_time": "2023-11-07T15:43:49.921135Z",
     "start_time": "2023-11-07T15:43:49.702870Z"
    },
    "colab": {
     "base_uri": "https://localhost:8080/",
     "height": 536
    },
    "executionInfo": {
     "elapsed": 18,
     "status": "ok",
     "timestamp": 1697619133710,
     "user": {
      "displayName": "Marc-André Delsuc",
      "userId": "14691951181681591806"
     },
     "user_tz": -120
    },
    "id": "XV1r-HgIE6em",
    "outputId": "2edafb82-4ed0-4349-dfae-d2366b75b2d9"
   },
   "outputs": [],
   "source": [
    "print(\"Mean accuracy: %.3f\"%bigcore)\n",
    "print(\"Confusion matrix:\\n\", str(bigcm))\n",
    "if ConfusionMatrixDisplay:\n",
    "    dls = [\"adelie\", \"gentoo\", \"chinstrap\"]\n",
    "    disp = ConfusionMatrixDisplay(confusion_matrix=bigcm, display_labels=dls)\n",
    "    disp.plot()\n",
    "else:\n",
    "    plt.imshow(bigcm)\n"
   ]
  },
  {
   "cell_type": "markdown",
   "metadata": {
    "id": "vtr158CSFY_e"
   },
   "source": [
    "We have built a **forest** of **classifier trees**.\n",
    "\n",
    "The number of tree in the forest, and the depth of each tree (the number of decision nodes) are the two main **hyperparameters** you may want to optimize on a real problem, called respectively  `n_estimators` and `max_depth`.  - here we used the default values."
   ]
  },
  {
   "cell_type": "markdown",
   "metadata": {
    "id": "HvTFRIsEFhH-"
   },
   "source": [
    "You might want to play with them and try to minimized the number of parameters all together - proportional to the product of both\n",
    "\n",
    "The trees are simply stored in a simple list called `estimators_`"
   ]
  },
  {
   "cell_type": "code",
   "execution_count": null,
   "metadata": {
    "ExecuteTime": {
     "end_time": "2023-11-07T15:43:49.925025Z",
     "start_time": "2023-11-07T15:43:49.922354Z"
    },
    "colab": {
     "base_uri": "https://localhost:8080/"
    },
    "executionInfo": {
     "elapsed": 622,
     "status": "ok",
     "timestamp": 1697619182142,
     "user": {
      "displayName": "Marc-André Delsuc",
      "userId": "14691951181681591806"
     },
     "user_tz": -120
    },
    "id": "oI1UmcdKWTF7",
    "outputId": "bdc60661-520b-476c-b850-75db9a67129e"
   },
   "outputs": [],
   "source": [
    "len(clfrf.estimators_)"
   ]
  },
  {
   "cell_type": "code",
   "execution_count": null,
   "metadata": {
    "ExecuteTime": {
     "end_time": "2023-11-07T15:43:49.930471Z",
     "start_time": "2023-11-07T15:43:49.926448Z"
    },
    "colab": {
     "base_uri": "https://localhost:8080/"
    },
    "executionInfo": {
     "elapsed": 503,
     "status": "ok",
     "timestamp": 1697619184084,
     "user": {
      "displayName": "Marc-André Delsuc",
      "userId": "14691951181681591806"
     },
     "user_tz": -120
    },
    "id": "20kW-hKeE2O-",
    "outputId": "66c0e6b6-da31-4e84-eade-579bc69dc686"
   },
   "outputs": [],
   "source": [
    "clfrf.estimators_[0:3] # print the first 0 entries out of the 100 entries"
   ]
  },
  {
   "cell_type": "markdown",
   "metadata": {
    "id": "E9oRjdusFuxu"
   },
   "source": [
    "and each tree structure can be explored"
   ]
  },
  {
   "cell_type": "code",
   "execution_count": null,
   "metadata": {
    "ExecuteTime": {
     "end_time": "2023-11-07T15:43:50.512231Z",
     "start_time": "2023-11-07T15:43:49.932241Z"
    },
    "colab": {
     "base_uri": "https://localhost:8080/",
     "height": 357
    },
    "executionInfo": {
     "elapsed": 1346,
     "status": "ok",
     "timestamp": 1697619187978,
     "user": {
      "displayName": "Marc-André Delsuc",
      "userId": "14691951181681591806"
     },
     "user_tz": -120
    },
    "id": "OhUnVQgJFlzR",
    "outputId": "b3f21c41-eff2-41c3-8fe3-5ed2f418eed8"
   },
   "outputs": [],
   "source": [
    "from sklearn import tree\n",
    "fig,ax = plt.subplots(figsize=(20,6))  # this trick allows to choose the figure size !\n",
    "# plot the 33rd one\n",
    "text = tree.plot_tree(clfrf.estimators_[33],\n",
    "                      feature_names=feature_list, filled=True,\n",
    "                      ax=ax, fontsize=8)\n"
   ]
  },
  {
   "cell_type": "markdown",
   "metadata": {
    "id": "VNyoZ7hKF0Pn"
   },
   "source": [
    "Here each decision node of **tree 33** is shown as a square,\n",
    "\n",
    "- *gini* is a measure of the importance of the decision node\n",
    "- the color coding indicating the *purity* of each node, which is a measure on how the training set is split by this rule, and an important parameter for the fitting of the model\n",
    "\n",
    "So Random Forest have an inherent capability to **partly explain** how a decision is taken.\n",
    "There are not so **irresponsible** as other methods."
   ]
  },
  {
   "cell_type": "markdown",
   "metadata": {
    "id": "E3ARELrTFrTz"
   },
   "source": [
    "# Q9\n",
    "- try to interpret the tree\n",
    "- try to understand the Gini parameter\n"
   ]
  },
  {
   "cell_type": "code",
   "execution_count": null,
   "metadata": {},
   "outputs": [],
   "source": []
  }
 ],
 "metadata": {
  "colab": {
   "provenance": []
  },
  "kernelspec": {
   "display_name": "Python 3 (ipykernel)",
   "language": "python",
   "name": "python3"
  },
  "language_info": {
   "codemirror_mode": {
    "name": "ipython",
    "version": 3
   },
   "file_extension": ".py",
   "mimetype": "text/x-python",
   "name": "python",
   "nbconvert_exporter": "python",
   "pygments_lexer": "ipython3",
   "version": "3.11.5"
  },
  "varInspector": {
   "cols": {
    "lenName": 16,
    "lenType": 16,
    "lenVar": 40
   },
   "kernels_config": {
    "python": {
     "delete_cmd_postfix": "",
     "delete_cmd_prefix": "del ",
     "library": "var_list.py",
     "varRefreshCmd": "print(var_dic_list())"
    },
    "r": {
     "delete_cmd_postfix": ") ",
     "delete_cmd_prefix": "rm(",
     "library": "var_list.r",
     "varRefreshCmd": "cat(var_dic_list()) "
    }
   },
   "types_to_exclude": [
    "module",
    "function",
    "builtin_function_or_method",
    "instance",
    "_Feature"
   ],
   "window_display": false
  }
 },
 "nbformat": 4,
 "nbformat_minor": 1
}
